{
 "cells": [
  {
   "cell_type": "markdown",
   "metadata": {
    "id": "EsvtefcwLRxm"
   },
   "source": [
    "### Importing Libraries"
   ]
  },
  {
   "cell_type": "code",
   "execution_count": 1,
   "metadata": {
    "id": "N-R3wfozJBep"
   },
   "outputs": [],
   "source": [
    "import pandas as pd\n",
    "import numpy as np\n",
    "import matplotlib.pyplot as plt\n",
    "%matplotlib inline\n",
    "import datetime"
   ]
  },
  {
   "cell_type": "markdown",
   "metadata": {
    "id": "C6Q0M1tKLh0Q"
   },
   "source": [
    "### Importing Data"
   ]
  },
  {
   "cell_type": "code",
   "execution_count": 2,
   "metadata": {
    "colab": {
     "base_uri": "https://localhost:8080/",
     "height": 206
    },
    "id": "w_bI6aprKVBA",
    "outputId": "1313c3fb-d9eb-4f34-e8b5-8ce8113d9c1c"
   },
   "outputs": [
    {
     "data": {
      "text/html": [
       "<div>\n",
       "<style scoped>\n",
       "    .dataframe tbody tr th:only-of-type {\n",
       "        vertical-align: middle;\n",
       "    }\n",
       "\n",
       "    .dataframe tbody tr th {\n",
       "        vertical-align: top;\n",
       "    }\n",
       "\n",
       "    .dataframe thead th {\n",
       "        text-align: right;\n",
       "    }\n",
       "</style>\n",
       "<table border=\"1\" class=\"dataframe\">\n",
       "  <thead>\n",
       "    <tr style=\"text-align: right;\">\n",
       "      <th></th>\n",
       "      <th>Open</th>\n",
       "      <th>High</th>\n",
       "      <th>Low</th>\n",
       "      <th>Close</th>\n",
       "      <th>Adj Close</th>\n",
       "      <th>Volume</th>\n",
       "    </tr>\n",
       "    <tr>\n",
       "      <th>Date</th>\n",
       "      <th></th>\n",
       "      <th></th>\n",
       "      <th></th>\n",
       "      <th></th>\n",
       "      <th></th>\n",
       "      <th></th>\n",
       "    </tr>\n",
       "  </thead>\n",
       "  <tbody>\n",
       "    <tr>\n",
       "      <th>2015-01-01</th>\n",
       "      <td>312.450012</td>\n",
       "      <td>315.000000</td>\n",
       "      <td>310.700012</td>\n",
       "      <td>314.000000</td>\n",
       "      <td>295.929230</td>\n",
       "      <td>6138488.0</td>\n",
       "    </tr>\n",
       "    <tr>\n",
       "      <th>2015-01-02</th>\n",
       "      <td>314.350006</td>\n",
       "      <td>318.299988</td>\n",
       "      <td>314.350006</td>\n",
       "      <td>315.250000</td>\n",
       "      <td>297.107269</td>\n",
       "      <td>9935094.0</td>\n",
       "    </tr>\n",
       "    <tr>\n",
       "      <th>2015-01-05</th>\n",
       "      <td>316.250000</td>\n",
       "      <td>316.799988</td>\n",
       "      <td>312.100006</td>\n",
       "      <td>312.750000</td>\n",
       "      <td>294.751160</td>\n",
       "      <td>9136716.0</td>\n",
       "    </tr>\n",
       "    <tr>\n",
       "      <th>2015-01-06</th>\n",
       "      <td>310.000000</td>\n",
       "      <td>311.100006</td>\n",
       "      <td>298.700012</td>\n",
       "      <td>299.899994</td>\n",
       "      <td>282.640686</td>\n",
       "      <td>15329257.0</td>\n",
       "    </tr>\n",
       "    <tr>\n",
       "      <th>2015-01-07</th>\n",
       "      <td>300.000000</td>\n",
       "      <td>302.549988</td>\n",
       "      <td>295.149994</td>\n",
       "      <td>300.149994</td>\n",
       "      <td>282.876282</td>\n",
       "      <td>15046745.0</td>\n",
       "    </tr>\n",
       "  </tbody>\n",
       "</table>\n",
       "</div>"
      ],
      "text/plain": [
       "                  Open        High         Low       Close   Adj Close  \\\n",
       "Date                                                                     \n",
       "2015-01-01  312.450012  315.000000  310.700012  314.000000  295.929230   \n",
       "2015-01-02  314.350006  318.299988  314.350006  315.250000  297.107269   \n",
       "2015-01-05  316.250000  316.799988  312.100006  312.750000  294.751160   \n",
       "2015-01-06  310.000000  311.100006  298.700012  299.899994  282.640686   \n",
       "2015-01-07  300.000000  302.549988  295.149994  300.149994  282.876282   \n",
       "\n",
       "                Volume  \n",
       "Date                    \n",
       "2015-01-01   6138488.0  \n",
       "2015-01-02   9935094.0  \n",
       "2015-01-05   9136716.0  \n",
       "2015-01-06  15329257.0  \n",
       "2015-01-07  15046745.0  "
      ]
     },
     "execution_count": 2,
     "metadata": {},
     "output_type": "execute_result"
    }
   ],
   "source": [
    "dataset = pd.read_csv(\"sbitrain.csv\", index_col='Date', parse_dates=True)\n",
    "dataset.head()"
   ]
  },
  {
   "cell_type": "markdown",
   "metadata": {
    "id": "HIDtjd2tKidp"
   },
   "source": []
  },
  {
   "cell_type": "markdown",
   "metadata": {
    "id": "H93Vrs_dLvgl"
   },
   "source": [
    "### Exploring Data"
   ]
  },
  {
   "cell_type": "code",
   "execution_count": 3,
   "metadata": {
    "colab": {
     "base_uri": "https://localhost:8080/"
    },
    "id": "PdvsztB8Kkds",
    "outputId": "f49a7f10-d3c1-49b0-f86d-4c9204650fd3"
   },
   "outputs": [
    {
     "data": {
      "text/plain": [
       "(1230, 6)"
      ]
     },
     "execution_count": 3,
     "metadata": {},
     "output_type": "execute_result"
    }
   ],
   "source": [
    "dataset.shape"
   ]
  },
  {
   "cell_type": "code",
   "execution_count": 4,
   "metadata": {
    "colab": {
     "base_uri": "https://localhost:8080/"
    },
    "id": "FPPGlq5kL489",
    "outputId": "48e07b5a-a7a6-46d5-9ecb-d68626d42e7f"
   },
   "outputs": [
    {
     "name": "stdout",
     "output_type": "stream",
     "text": [
      "<class 'pandas.core.frame.DataFrame'>\n",
      "DatetimeIndex: 1230 entries, 2015-01-01 to 2019-12-31\n",
      "Data columns (total 6 columns):\n",
      " #   Column     Non-Null Count  Dtype  \n",
      "---  ------     --------------  -----  \n",
      " 0   Open       1229 non-null   float64\n",
      " 1   High       1229 non-null   float64\n",
      " 2   Low        1229 non-null   float64\n",
      " 3   Close      1229 non-null   float64\n",
      " 4   Adj Close  1229 non-null   float64\n",
      " 5   Volume     1229 non-null   float64\n",
      "dtypes: float64(6)\n",
      "memory usage: 67.3 KB\n"
     ]
    }
   ],
   "source": [
    "dataset.info()"
   ]
  },
  {
   "cell_type": "code",
   "execution_count": 5,
   "metadata": {
    "colab": {
     "base_uri": "https://localhost:8080/",
     "height": 300
    },
    "id": "-oXDDGZfL9jQ",
    "outputId": "395259b8-aa5b-4035-85aa-b155136b94f0"
   },
   "outputs": [
    {
     "data": {
      "text/html": [
       "<div>\n",
       "<style scoped>\n",
       "    .dataframe tbody tr th:only-of-type {\n",
       "        vertical-align: middle;\n",
       "    }\n",
       "\n",
       "    .dataframe tbody tr th {\n",
       "        vertical-align: top;\n",
       "    }\n",
       "\n",
       "    .dataframe thead th {\n",
       "        text-align: right;\n",
       "    }\n",
       "</style>\n",
       "<table border=\"1\" class=\"dataframe\">\n",
       "  <thead>\n",
       "    <tr style=\"text-align: right;\">\n",
       "      <th></th>\n",
       "      <th>Open</th>\n",
       "      <th>High</th>\n",
       "      <th>Low</th>\n",
       "      <th>Close</th>\n",
       "      <th>Adj Close</th>\n",
       "      <th>Volume</th>\n",
       "    </tr>\n",
       "  </thead>\n",
       "  <tbody>\n",
       "    <tr>\n",
       "      <th>count</th>\n",
       "      <td>1229.000000</td>\n",
       "      <td>1229.000000</td>\n",
       "      <td>1229.000000</td>\n",
       "      <td>1229.000000</td>\n",
       "      <td>1229.000000</td>\n",
       "      <td>1.229000e+03</td>\n",
       "    </tr>\n",
       "    <tr>\n",
       "      <th>mean</th>\n",
       "      <td>271.604556</td>\n",
       "      <td>274.984947</td>\n",
       "      <td>267.614198</td>\n",
       "      <td>271.054231</td>\n",
       "      <td>262.267839</td>\n",
       "      <td>2.063403e+07</td>\n",
       "    </tr>\n",
       "    <tr>\n",
       "      <th>std</th>\n",
       "      <td>40.402171</td>\n",
       "      <td>40.768096</td>\n",
       "      <td>39.984439</td>\n",
       "      <td>40.374621</td>\n",
       "      <td>40.230578</td>\n",
       "      <td>1.484057e+07</td>\n",
       "    </tr>\n",
       "    <tr>\n",
       "      <th>min</th>\n",
       "      <td>155.000000</td>\n",
       "      <td>157.649994</td>\n",
       "      <td>148.250000</td>\n",
       "      <td>151.800003</td>\n",
       "      <td>144.869904</td>\n",
       "      <td>2.095795e+06</td>\n",
       "    </tr>\n",
       "    <tr>\n",
       "      <th>25%</th>\n",
       "      <td>251.800003</td>\n",
       "      <td>255.000000</td>\n",
       "      <td>248.350006</td>\n",
       "      <td>251.149994</td>\n",
       "      <td>242.976791</td>\n",
       "      <td>1.252341e+07</td>\n",
       "    </tr>\n",
       "    <tr>\n",
       "      <th>50%</th>\n",
       "      <td>273.000000</td>\n",
       "      <td>276.350006</td>\n",
       "      <td>269.500000</td>\n",
       "      <td>272.950012</td>\n",
       "      <td>264.200562</td>\n",
       "      <td>1.681902e+07</td>\n",
       "    </tr>\n",
       "    <tr>\n",
       "      <th>75%</th>\n",
       "      <td>295.899994</td>\n",
       "      <td>299.950012</td>\n",
       "      <td>291.899994</td>\n",
       "      <td>295.100006</td>\n",
       "      <td>286.680573</td>\n",
       "      <td>2.371668e+07</td>\n",
       "    </tr>\n",
       "    <tr>\n",
       "      <th>max</th>\n",
       "      <td>371.950012</td>\n",
       "      <td>373.799988</td>\n",
       "      <td>366.200012</td>\n",
       "      <td>372.399994</td>\n",
       "      <td>363.323181</td>\n",
       "      <td>2.626771e+08</td>\n",
       "    </tr>\n",
       "  </tbody>\n",
       "</table>\n",
       "</div>"
      ],
      "text/plain": [
       "              Open         High          Low        Close    Adj Close  \\\n",
       "count  1229.000000  1229.000000  1229.000000  1229.000000  1229.000000   \n",
       "mean    271.604556   274.984947   267.614198   271.054231   262.267839   \n",
       "std      40.402171    40.768096    39.984439    40.374621    40.230578   \n",
       "min     155.000000   157.649994   148.250000   151.800003   144.869904   \n",
       "25%     251.800003   255.000000   248.350006   251.149994   242.976791   \n",
       "50%     273.000000   276.350006   269.500000   272.950012   264.200562   \n",
       "75%     295.899994   299.950012   291.899994   295.100006   286.680573   \n",
       "max     371.950012   373.799988   366.200012   372.399994   363.323181   \n",
       "\n",
       "             Volume  \n",
       "count  1.229000e+03  \n",
       "mean   2.063403e+07  \n",
       "std    1.484057e+07  \n",
       "min    2.095795e+06  \n",
       "25%    1.252341e+07  \n",
       "50%    1.681902e+07  \n",
       "75%    2.371668e+07  \n",
       "max    2.626771e+08  "
      ]
     },
     "execution_count": 5,
     "metadata": {},
     "output_type": "execute_result"
    }
   ],
   "source": [
    "dataset.describe()"
   ]
  },
  {
   "cell_type": "code",
   "execution_count": 47,
   "metadata": {
    "colab": {
     "base_uri": "https://localhost:8080/"
    },
    "id": "_rFYUsuCMCDk",
    "outputId": "376bcc43-288d-49b5-bbec-b87064323d1a"
   },
   "outputs": [
    {
     "data": {
      "text/plain": [
       "Open                  True\n",
       "High                  True\n",
       "Low                   True\n",
       "Close                 True\n",
       "Adj Close             True\n",
       "Volume                True\n",
       "Close: 30 day mean    True\n",
       "dtype: bool"
      ]
     },
     "execution_count": 47,
     "metadata": {},
     "output_type": "execute_result"
    }
   ],
   "source": [
    "dataset.isna().any()"
   ]
  },
  {
   "cell_type": "code",
   "execution_count": 52,
   "metadata": {},
   "outputs": [],
   "source": [
    "dataset = dataset.dropna()"
   ]
  },
  {
   "cell_type": "code",
   "execution_count": 54,
   "metadata": {},
   "outputs": [
    {
     "data": {
      "text/plain": [
       "Open                  False\n",
       "High                  False\n",
       "Low                   False\n",
       "Close                 False\n",
       "Adj Close             False\n",
       "Volume                False\n",
       "Close: 30 day mean    False\n",
       "dtype: bool"
      ]
     },
     "execution_count": 54,
     "metadata": {},
     "output_type": "execute_result"
    }
   ],
   "source": [
    "dataset.isna().any()"
   ]
  },
  {
   "cell_type": "code",
   "execution_count": 55,
   "metadata": {
    "colab": {
     "base_uri": "https://localhost:8080/"
    },
    "id": "6q1bYMUKMdZT",
    "outputId": "3ccc1f26-8b72-493d-d0b8-0641c78d8651"
   },
   "outputs": [
    {
     "data": {
      "text/plain": [
       "0"
      ]
     },
     "execution_count": 55,
     "metadata": {},
     "output_type": "execute_result"
    }
   ],
   "source": [
    "dataset.duplicated().sum()"
   ]
  },
  {
   "cell_type": "code",
   "execution_count": 56,
   "metadata": {
    "colab": {
     "base_uri": "https://localhost:8080/"
    },
    "id": "6A3OwrGIMjAU",
    "outputId": "a6367f12-15b0-4355-867f-08f0c1bbf914"
   },
   "outputs": [
    {
     "data": {
      "text/plain": [
       "Open                  float64\n",
       "High                  float64\n",
       "Low                   float64\n",
       "Close                 float64\n",
       "Adj Close             float64\n",
       "Volume                float64\n",
       "Close: 30 day mean    float64\n",
       "dtype: object"
      ]
     },
     "execution_count": 56,
     "metadata": {},
     "output_type": "execute_result"
    }
   ],
   "source": [
    "dataset.dtypes"
   ]
  },
  {
   "cell_type": "markdown",
   "metadata": {
    "id": "Ffb8jD6EMvei"
   },
   "source": [
    "### Handling Outliers"
   ]
  },
  {
   "cell_type": "code",
   "execution_count": 57,
   "metadata": {
    "colab": {
     "base_uri": "https://localhost:8080/",
     "height": 297
    },
    "id": "yOdmFgTUM3X-",
    "outputId": "01b15ca7-179b-4661-dc2c-2a34cebd99f5"
   },
   "outputs": [
    {
     "data": {
      "image/png": "[encoded data removed]",
      "text/plain": [
       "<Figure size 432x288 with 6 Axes>"
      ]
     },
     "metadata": {
      "needs_background": "light"
     },
     "output_type": "display_data"
    }
   ],
   "source": [
    "plt.subplot(2,3,1)\n",
    "dataset['Open'].plot(kind='box')\n",
    "\n",
    "plt.subplot(2,3,2)\n",
    "dataset['High'].plot(kind='box')\n",
    "\n",
    "plt.subplot(2,3,3)\n",
    "dataset['Low'].plot(kind='box')\n",
    "\n",
    "plt.subplot(2,3,4)\n",
    "dataset['Close'].plot(kind='box')\n",
    "\n",
    "plt.subplot(2,3,5)\n",
    "dataset['Adj Close'].plot(kind='box')\n",
    "\n",
    "plt.subplot(2,3,6)\n",
    "dataset['Volume'].plot(kind='box')\n",
    "plt.tight_layout()"
   ]
  },
  {
   "cell_type": "markdown",
   "metadata": {
    "id": "nZqth2zhNGJh"
   },
   "source": [
    "### Handling Outliers in Volume"
   ]
  },
  {
   "cell_type": "code",
   "execution_count": 58,
   "metadata": {
    "colab": {
     "base_uri": "https://localhost:8080/"
    },
    "id": "X1vIw-ixNOz1",
    "outputId": "7b0e6615-7f8e-44dc-b2f0-bf225ea1ef60"
   },
   "outputs": [
    {
     "name": "stdout",
     "output_type": "stream",
     "text": [
      "Open:  Upper_limit:  360.36251425\n"
     ]
    },
    {
     "name": "stderr",
     "output_type": "stream",
     "text": [
      "C:\\Users\\hp\\AppData\\Local\\Temp\\ipykernel_10500\\1781939311.py:9: SettingWithCopyWarning: \n",
      "A value is trying to be set on a copy of a slice from a DataFrame\n",
      "\n",
      "See the caveats in the documentation: https://pandas.pydata.org/pandas-docs/stable/user_guide/indexing.html#returning-a-view-versus-a-copy\n",
      "  dataset.loc[dataset['Open']>high_open, 'Open']=high_open\n"
     ]
    }
   ],
   "source": [
    "def find_outliers_limit(col_name):\n",
    "    Q1, Q3 = dataset[col_name].quantile([0.25,0.75])\n",
    "    IQR = Q3-Q1\n",
    "    low = Q1-(1.5*IQR)\n",
    "    high = Q3+(1.5*IQR)\n",
    "    return (high,low)\n",
    "high_open, low_open = find_outliers_limit('Open')\n",
    "print('Open: ','Upper_limit: ', high_open)\n",
    "dataset.loc[dataset['Open']>high_open, 'Open']=high_open"
   ]
  },
  {
   "cell_type": "code",
   "execution_count": 59,
   "metadata": {
    "colab": {
     "base_uri": "https://localhost:8080/",
     "height": 297
    },
    "id": "vIQG1XfwNVku",
    "outputId": "f643cd35-8b91-4d6f-e7e2-6428c74a301e"
   },
   "outputs": [
    {
     "data": {
      "image/png": "[encoded data removed]",
      "text/plain": [
       "<Figure size 432x288 with 6 Axes>"
      ]
     },
     "metadata": {
      "needs_background": "light"
     },
     "output_type": "display_data"
    }
   ],
   "source": [
    "plt.subplot(2,3,1)\n",
    "dataset['Open'].plot(kind='box')\n",
    "\n",
    "plt.subplot(2,3,2)\n",
    "dataset['High'].plot(kind='box')\n",
    "\n",
    "plt.subplot(2,3,3)\n",
    "dataset['Low'].plot(kind='box')\n",
    "\n",
    "plt.subplot(2,3,4)\n",
    "dataset['Close'].plot(kind='box')\n",
    "\n",
    "plt.subplot(2,3,5)\n",
    "dataset['Adj Close'].plot(kind='box')\n",
    "\n",
    "plt.subplot(2,3,6)\n",
    "dataset['Volume'].plot(kind='box')\n",
    "plt.tight_layout()"
   ]
  },
  {
   "cell_type": "markdown",
   "metadata": {
    "id": "dDefyEUp5_46"
   },
   "source": [
    "### Data Visualisation\n"
   ]
  },
  {
   "cell_type": "code",
   "execution_count": 60,
   "metadata": {
    "colab": {
     "base_uri": "https://localhost:8080/",
     "height": 391
    },
    "id": "WSSkbewgY9Yh",
    "outputId": "fb47d0f4-ebb2-49ba-906a-4e909b1cc9dc"
   },
   "outputs": [
    {
     "data": {
      "text/plain": [
       "<AxesSubplot:xlabel='Date'>"
      ]
     },
     "execution_count": 60,
     "metadata": {},
     "output_type": "execute_result"
    },
    {
     "data": {
      "image/png": "[encoded data removed]",
      "text/plain": [
       "<Figure size 1152x432 with 1 Axes>"
      ]
     },
     "metadata": {
      "needs_background": "light"
     },
     "output_type": "display_data"
    }
   ],
   "source": [
    "dataset['Open'].plot(figsize=(16,6))"
   ]
  },
  {
   "cell_type": "code",
   "execution_count": 61,
   "metadata": {
    "colab": {
     "base_uri": "https://localhost:8080/",
     "height": 676
    },
    "id": "5FyrNXRqT9Zr",
    "outputId": "fbcc9117-18ad-4c21-e123-16cc9bcd6a4e"
   },
   "outputs": [
    {
     "data": {
      "text/html": [
       "<div>\n",
       "<style scoped>\n",
       "    .dataframe tbody tr th:only-of-type {\n",
       "        vertical-align: middle;\n",
       "    }\n",
       "\n",
       "    .dataframe tbody tr th {\n",
       "        vertical-align: top;\n",
       "    }\n",
       "\n",
       "    .dataframe thead th {\n",
       "        text-align: right;\n",
       "    }\n",
       "</style>\n",
       "<table border=\"1\" class=\"dataframe\">\n",
       "  <thead>\n",
       "    <tr style=\"text-align: right;\">\n",
       "      <th></th>\n",
       "      <th>Open</th>\n",
       "      <th>High</th>\n",
       "      <th>Low</th>\n",
       "      <th>Close</th>\n",
       "      <th>Adj Close</th>\n",
       "      <th>Volume</th>\n",
       "      <th>Close: 30 day mean</th>\n",
       "    </tr>\n",
       "    <tr>\n",
       "      <th>Date</th>\n",
       "      <th></th>\n",
       "      <th></th>\n",
       "      <th></th>\n",
       "      <th></th>\n",
       "      <th></th>\n",
       "      <th></th>\n",
       "      <th></th>\n",
       "    </tr>\n",
       "  </thead>\n",
       "  <tbody>\n",
       "    <tr>\n",
       "      <th>2015-02-12</th>\n",
       "      <td>NaN</td>\n",
       "      <td>NaN</td>\n",
       "      <td>NaN</td>\n",
       "      <td>NaN</td>\n",
       "      <td>NaN</td>\n",
       "      <td>NaN</td>\n",
       "      <td>NaN</td>\n",
       "    </tr>\n",
       "    <tr>\n",
       "      <th>2015-02-13</th>\n",
       "      <td>NaN</td>\n",
       "      <td>NaN</td>\n",
       "      <td>NaN</td>\n",
       "      <td>NaN</td>\n",
       "      <td>NaN</td>\n",
       "      <td>NaN</td>\n",
       "      <td>NaN</td>\n",
       "    </tr>\n",
       "    <tr>\n",
       "      <th>2015-02-16</th>\n",
       "      <td>NaN</td>\n",
       "      <td>NaN</td>\n",
       "      <td>NaN</td>\n",
       "      <td>NaN</td>\n",
       "      <td>NaN</td>\n",
       "      <td>NaN</td>\n",
       "      <td>NaN</td>\n",
       "    </tr>\n",
       "    <tr>\n",
       "      <th>2015-02-18</th>\n",
       "      <td>NaN</td>\n",
       "      <td>NaN</td>\n",
       "      <td>NaN</td>\n",
       "      <td>NaN</td>\n",
       "      <td>NaN</td>\n",
       "      <td>NaN</td>\n",
       "      <td>NaN</td>\n",
       "    </tr>\n",
       "    <tr>\n",
       "      <th>2015-02-19</th>\n",
       "      <td>NaN</td>\n",
       "      <td>NaN</td>\n",
       "      <td>NaN</td>\n",
       "      <td>NaN</td>\n",
       "      <td>NaN</td>\n",
       "      <td>NaN</td>\n",
       "      <td>NaN</td>\n",
       "    </tr>\n",
       "    <tr>\n",
       "      <th>2015-02-20</th>\n",
       "      <td>NaN</td>\n",
       "      <td>NaN</td>\n",
       "      <td>NaN</td>\n",
       "      <td>NaN</td>\n",
       "      <td>NaN</td>\n",
       "      <td>NaN</td>\n",
       "      <td>NaN</td>\n",
       "    </tr>\n",
       "    <tr>\n",
       "      <th>2015-02-23</th>\n",
       "      <td>300.785714</td>\n",
       "      <td>305.199999</td>\n",
       "      <td>294.085711</td>\n",
       "      <td>300.692858</td>\n",
       "      <td>283.387905</td>\n",
       "      <td>2.461957e+07</td>\n",
       "      <td>307.208334</td>\n",
       "    </tr>\n",
       "    <tr>\n",
       "      <th>2015-02-24</th>\n",
       "      <td>301.928571</td>\n",
       "      <td>306.628571</td>\n",
       "      <td>296.057142</td>\n",
       "      <td>302.400003</td>\n",
       "      <td>284.996800</td>\n",
       "      <td>2.377522e+07</td>\n",
       "      <td>307.049762</td>\n",
       "    </tr>\n",
       "    <tr>\n",
       "      <th>2015-02-25</th>\n",
       "      <td>303.500000</td>\n",
       "      <td>305.585711</td>\n",
       "      <td>297.435713</td>\n",
       "      <td>300.771428</td>\n",
       "      <td>283.461953</td>\n",
       "      <td>1.553309e+07</td>\n",
       "      <td>306.869762</td>\n",
       "    </tr>\n",
       "    <tr>\n",
       "      <th>2015-02-26</th>\n",
       "      <td>301.557142</td>\n",
       "      <td>303.278569</td>\n",
       "      <td>295.057138</td>\n",
       "      <td>298.299997</td>\n",
       "      <td>281.132751</td>\n",
       "      <td>1.515241e+07</td>\n",
       "      <td>306.655714</td>\n",
       "    </tr>\n",
       "    <tr>\n",
       "      <th>2015-02-27</th>\n",
       "      <td>299.335715</td>\n",
       "      <td>302.292855</td>\n",
       "      <td>293.357139</td>\n",
       "      <td>297.471423</td>\n",
       "      <td>280.351863</td>\n",
       "      <td>1.584434e+07</td>\n",
       "      <td>306.452381</td>\n",
       "    </tr>\n",
       "    <tr>\n",
       "      <th>2015-04-16</th>\n",
       "      <td>297.071429</td>\n",
       "      <td>300.428571</td>\n",
       "      <td>291.885712</td>\n",
       "      <td>296.049992</td>\n",
       "      <td>279.012237</td>\n",
       "      <td>1.545604e+07</td>\n",
       "      <td>302.731666</td>\n",
       "    </tr>\n",
       "    <tr>\n",
       "      <th>2015-04-17</th>\n",
       "      <td>295.514287</td>\n",
       "      <td>298.771428</td>\n",
       "      <td>290.764287</td>\n",
       "      <td>294.542851</td>\n",
       "      <td>277.591827</td>\n",
       "      <td>1.560268e+07</td>\n",
       "      <td>298.951904</td>\n",
       "    </tr>\n",
       "    <tr>\n",
       "      <th>2015-04-20</th>\n",
       "      <td>293.771428</td>\n",
       "      <td>297.164285</td>\n",
       "      <td>289.400003</td>\n",
       "      <td>293.271423</td>\n",
       "      <td>276.393568</td>\n",
       "      <td>1.579526e+07</td>\n",
       "      <td>295.140475</td>\n",
       "    </tr>\n",
       "    <tr>\n",
       "      <th>2015-04-21</th>\n",
       "      <td>292.414285</td>\n",
       "      <td>296.164285</td>\n",
       "      <td>287.921430</td>\n",
       "      <td>292.264282</td>\n",
       "      <td>275.444388</td>\n",
       "      <td>1.585830e+07</td>\n",
       "      <td>291.339998</td>\n",
       "    </tr>\n",
       "    <tr>\n",
       "      <th>2015-04-22</th>\n",
       "      <td>291.207140</td>\n",
       "      <td>295.107143</td>\n",
       "      <td>285.121429</td>\n",
       "      <td>290.592856</td>\n",
       "      <td>273.869149</td>\n",
       "      <td>1.655781e+07</td>\n",
       "      <td>287.547141</td>\n",
       "    </tr>\n",
       "    <tr>\n",
       "      <th>2015-04-23</th>\n",
       "      <td>289.492855</td>\n",
       "      <td>293.735713</td>\n",
       "      <td>283.435717</td>\n",
       "      <td>288.914285</td>\n",
       "      <td>272.287179</td>\n",
       "      <td>1.586743e+07</td>\n",
       "      <td>283.767141</td>\n",
       "    </tr>\n",
       "    <tr>\n",
       "      <th>2015-04-24</th>\n",
       "      <td>287.649998</td>\n",
       "      <td>290.678571</td>\n",
       "      <td>281.185717</td>\n",
       "      <td>285.435713</td>\n",
       "      <td>269.008793</td>\n",
       "      <td>1.468649e+07</td>\n",
       "      <td>279.952617</td>\n",
       "    </tr>\n",
       "    <tr>\n",
       "      <th>2015-04-27</th>\n",
       "      <td>285.692854</td>\n",
       "      <td>288.149998</td>\n",
       "      <td>278.271432</td>\n",
       "      <td>281.814283</td>\n",
       "      <td>265.595779</td>\n",
       "      <td>1.430795e+07</td>\n",
       "      <td>279.557617</td>\n",
       "    </tr>\n",
       "    <tr>\n",
       "      <th>2015-04-28</th>\n",
       "      <td>282.264282</td>\n",
       "      <td>285.092856</td>\n",
       "      <td>274.835715</td>\n",
       "      <td>279.064283</td>\n",
       "      <td>263.004048</td>\n",
       "      <td>1.371858e+07</td>\n",
       "      <td>279.143093</td>\n",
       "    </tr>\n",
       "  </tbody>\n",
       "</table>\n",
       "</div>"
      ],
      "text/plain": [
       "                  Open        High         Low       Close   Adj Close  \\\n",
       "Date                                                                     \n",
       "2015-02-12         NaN         NaN         NaN         NaN         NaN   \n",
       "2015-02-13         NaN         NaN         NaN         NaN         NaN   \n",
       "2015-02-16         NaN         NaN         NaN         NaN         NaN   \n",
       "2015-02-18         NaN         NaN         NaN         NaN         NaN   \n",
       "2015-02-19         NaN         NaN         NaN         NaN         NaN   \n",
       "2015-02-20         NaN         NaN         NaN         NaN         NaN   \n",
       "2015-02-23  300.785714  305.199999  294.085711  300.692858  283.387905   \n",
       "2015-02-24  301.928571  306.628571  296.057142  302.400003  284.996800   \n",
       "2015-02-25  303.500000  305.585711  297.435713  300.771428  283.461953   \n",
       "2015-02-26  301.557142  303.278569  295.057138  298.299997  281.132751   \n",
       "2015-02-27  299.335715  302.292855  293.357139  297.471423  280.351863   \n",
       "2015-04-16  297.071429  300.428571  291.885712  296.049992  279.012237   \n",
       "2015-04-17  295.514287  298.771428  290.764287  294.542851  277.591827   \n",
       "2015-04-20  293.771428  297.164285  289.400003  293.271423  276.393568   \n",
       "2015-04-21  292.414285  296.164285  287.921430  292.264282  275.444388   \n",
       "2015-04-22  291.207140  295.107143  285.121429  290.592856  273.869149   \n",
       "2015-04-23  289.492855  293.735713  283.435717  288.914285  272.287179   \n",
       "2015-04-24  287.649998  290.678571  281.185717  285.435713  269.008793   \n",
       "2015-04-27  285.692854  288.149998  278.271432  281.814283  265.595779   \n",
       "2015-04-28  282.264282  285.092856  274.835715  279.064283  263.004048   \n",
       "\n",
       "                  Volume  Close: 30 day mean  \n",
       "Date                                          \n",
       "2015-02-12           NaN                 NaN  \n",
       "2015-02-13           NaN                 NaN  \n",
       "2015-02-16           NaN                 NaN  \n",
       "2015-02-18           NaN                 NaN  \n",
       "2015-02-19           NaN                 NaN  \n",
       "2015-02-20           NaN                 NaN  \n",
       "2015-02-23  2.461957e+07          307.208334  \n",
       "2015-02-24  2.377522e+07          307.049762  \n",
       "2015-02-25  1.553309e+07          306.869762  \n",
       "2015-02-26  1.515241e+07          306.655714  \n",
       "2015-02-27  1.584434e+07          306.452381  \n",
       "2015-04-16  1.545604e+07          302.731666  \n",
       "2015-04-17  1.560268e+07          298.951904  \n",
       "2015-04-20  1.579526e+07          295.140475  \n",
       "2015-04-21  1.585830e+07          291.339998  \n",
       "2015-04-22  1.655781e+07          287.547141  \n",
       "2015-04-23  1.586743e+07          283.767141  \n",
       "2015-04-24  1.468649e+07          279.952617  \n",
       "2015-04-27  1.430795e+07          279.557617  \n",
       "2015-04-28  1.371858e+07          279.143093  "
      ]
     },
     "execution_count": 61,
     "metadata": {},
     "output_type": "execute_result"
    }
   ],
   "source": [
    "dataset.rolling(7).mean().head(20)"
   ]
  },
  {
   "cell_type": "code",
   "execution_count": 62,
   "metadata": {
    "colab": {
     "base_uri": "https://localhost:8080/",
     "height": 391
    },
    "id": "lI0FLRYtbb9p",
    "outputId": "bc4664ea-239f-4623-9dc4-fbbb965d00b5"
   },
   "outputs": [
    {
     "data": {
      "text/plain": [
       "<AxesSubplot:xlabel='Date'>"
      ]
     },
     "execution_count": 62,
     "metadata": {},
     "output_type": "execute_result"
    },
    {
     "data": {
      "image/png": "[encoded data removed]",
      "text/plain": [
       "<Figure size 1152x432 with 1 Axes>"
      ]
     },
     "metadata": {
      "needs_background": "light"
     },
     "output_type": "display_data"
    }
   ],
   "source": [
    "dataset['Open'].plot(figsize=(16,6))\n",
    "dataset.rolling(window=30).mean()['Close'].plot()"
   ]
  },
  {
   "cell_type": "code",
   "execution_count": 63,
   "metadata": {
    "colab": {
     "base_uri": "https://localhost:8080/",
     "height": 391
    },
    "id": "SOeDVyVzciv9",
    "outputId": "21dc691c-66d4-4f06-d440-4ddf0d15815f"
   },
   "outputs": [
    {
     "name": "stderr",
     "output_type": "stream",
     "text": [
      "C:\\Users\\hp\\AppData\\Local\\Temp\\ipykernel_10500\\3838539435.py:1: SettingWithCopyWarning: \n",
      "A value is trying to be set on a copy of a slice from a DataFrame.\n",
      "Try using .loc[row_indexer,col_indexer] = value instead\n",
      "\n",
      "See the caveats in the documentation: https://pandas.pydata.org/pandas-docs/stable/user_guide/indexing.html#returning-a-view-versus-a-copy\n",
      "  dataset['Close: 30 day mean']=dataset['Close'].rolling(window=30).mean()\n"
     ]
    },
    {
     "data": {
      "text/plain": [
       "<AxesSubplot:xlabel='Date'>"
      ]
     },
     "execution_count": 63,
     "metadata": {},
     "output_type": "execute_result"
    },
    {
     "data": {
      "image/png": "[encoded data removed]",
      "text/plain": [
       "<Figure size 1152x432 with 1 Axes>"
      ]
     },
     "metadata": {
      "needs_background": "light"
     },
     "output_type": "display_data"
    }
   ],
   "source": [
    "dataset['Close: 30 day mean']=dataset['Close'].rolling(window=30).mean()\n",
    "dataset[['Close','Close: 30 day mean']].plot(figsize=(16,6))"
   ]
  },
  {
   "cell_type": "code",
   "execution_count": 64,
   "metadata": {
    "colab": {
     "base_uri": "https://localhost:8080/",
     "height": 391
    },
    "id": "5X1wOT8DfgGR",
    "outputId": "8fd4f81a-7c5a-473f-ba0f-7f11598d4fdb"
   },
   "outputs": [
    {
     "data": {
      "text/plain": [
       "<AxesSubplot:xlabel='Date'>"
      ]
     },
     "execution_count": 64,
     "metadata": {},
     "output_type": "execute_result"
    },
    {
     "data": {
      "image/png": "[encoded data removed]",
      "text/plain": [
       "<Figure size 1152x432 with 1 Axes>"
      ]
     },
     "metadata": {
      "needs_background": "light"
     },
     "output_type": "display_data"
    }
   ],
   "source": [
    "dataset['Close'].expanding(min_periods=1).mean().plot(figsize=(16,6))"
   ]
  },
  {
   "cell_type": "code",
   "execution_count": 65,
   "metadata": {
    "colab": {
     "base_uri": "https://localhost:8080/",
     "height": 424
    },
    "id": "dROJL_Wqf0bf",
    "outputId": "b41f3535-6e1b-4dd7-855b-598b1859b96f"
   },
   "outputs": [
    {
     "data": {
      "text/html": [
       "<div>\n",
       "<style scoped>\n",
       "    .dataframe tbody tr th:only-of-type {\n",
       "        vertical-align: middle;\n",
       "    }\n",
       "\n",
       "    .dataframe tbody tr th {\n",
       "        vertical-align: top;\n",
       "    }\n",
       "\n",
       "    .dataframe thead th {\n",
       "        text-align: right;\n",
       "    }\n",
       "</style>\n",
       "<table border=\"1\" class=\"dataframe\">\n",
       "  <thead>\n",
       "    <tr style=\"text-align: right;\">\n",
       "      <th></th>\n",
       "      <th>Open</th>\n",
       "    </tr>\n",
       "    <tr>\n",
       "      <th>Date</th>\n",
       "      <th></th>\n",
       "    </tr>\n",
       "  </thead>\n",
       "  <tbody>\n",
       "    <tr>\n",
       "      <th>2015-02-12</th>\n",
       "      <td>288.899994</td>\n",
       "    </tr>\n",
       "    <tr>\n",
       "      <th>2015-02-13</th>\n",
       "      <td>288.000000</td>\n",
       "    </tr>\n",
       "    <tr>\n",
       "      <th>2015-02-16</th>\n",
       "      <td>310.600006</td>\n",
       "    </tr>\n",
       "    <tr>\n",
       "      <th>2015-02-18</th>\n",
       "      <td>306.799988</td>\n",
       "    </tr>\n",
       "    <tr>\n",
       "      <th>2015-02-19</th>\n",
       "      <td>306.100006</td>\n",
       "    </tr>\n",
       "    <tr>\n",
       "      <th>...</th>\n",
       "      <td>...</td>\n",
       "    </tr>\n",
       "    <tr>\n",
       "      <th>2019-12-24</th>\n",
       "      <td>333.200012</td>\n",
       "    </tr>\n",
       "    <tr>\n",
       "      <th>2019-12-26</th>\n",
       "      <td>333.000000</td>\n",
       "    </tr>\n",
       "    <tr>\n",
       "      <th>2019-12-27</th>\n",
       "      <td>333.399994</td>\n",
       "    </tr>\n",
       "    <tr>\n",
       "      <th>2019-12-30</th>\n",
       "      <td>337.750000</td>\n",
       "    </tr>\n",
       "    <tr>\n",
       "      <th>2019-12-31</th>\n",
       "      <td>334.399994</td>\n",
       "    </tr>\n",
       "  </tbody>\n",
       "</table>\n",
       "<p>1171 rows × 1 columns</p>\n",
       "</div>"
      ],
      "text/plain": [
       "                  Open\n",
       "Date                  \n",
       "2015-02-12  288.899994\n",
       "2015-02-13  288.000000\n",
       "2015-02-16  310.600006\n",
       "2015-02-18  306.799988\n",
       "2015-02-19  306.100006\n",
       "...                ...\n",
       "2019-12-24  333.200012\n",
       "2019-12-26  333.000000\n",
       "2019-12-27  333.399994\n",
       "2019-12-30  337.750000\n",
       "2019-12-31  334.399994\n",
       "\n",
       "[1171 rows x 1 columns]"
      ]
     },
     "execution_count": 65,
     "metadata": {},
     "output_type": "execute_result"
    }
   ],
   "source": [
    "training_set = pd.DataFrame(dataset['Open'])\n",
    "training_set"
   ]
  },
  {
   "cell_type": "markdown",
   "metadata": {
    "id": "sWanjEcs6Iei"
   },
   "source": [
    "Modelling"
   ]
  },
  {
   "cell_type": "code",
   "execution_count": 66,
   "metadata": {
    "id": "tICHPhzWgItH"
   },
   "outputs": [],
   "source": [
    "from sklearn.preprocessing import MinMaxScaler\n",
    "sc = MinMaxScaler(feature_range=(0,1))\n",
    "training_set_scaled = sc.fit_transform(training_set)"
   ]
  },
  {
   "cell_type": "code",
   "execution_count": 68,
   "metadata": {
    "id": "rJXRhgKBgn9I"
   },
   "outputs": [],
   "source": [
    "X_train = []\n",
    "y_train = []\n",
    "for i in range(60,1171):\n",
    "  X_train.append(training_set_scaled[i-60:i,0])\n",
    "  y_train.append(training_set_scaled[i,0]),\n",
    "X_train, y_train = np.array(X_train),np.array(y_train)\n",
    "X_train = np.reshape(X_train,(X_train.shape[0], X_train.shape[1],1))"
   ]
  },
  {
   "cell_type": "code",
   "execution_count": 69,
   "metadata": {
    "id": "xsXmay5-i8A0"
   },
   "outputs": [],
   "source": [
    "from keras.models import Sequential\n",
    "from keras.layers import Dense\n",
    "from keras.layers import LSTM\n",
    "from keras.layers import Dropout\n"
   ]
  },
  {
   "cell_type": "code",
   "execution_count": 70,
   "metadata": {
    "id": "EHsATTKMlTDw"
   },
   "outputs": [],
   "source": [
    "regressor = Sequential()"
   ]
  },
  {
   "cell_type": "code",
   "execution_count": 71,
   "metadata": {
    "id": "FGbqpxDHlYLi"
   },
   "outputs": [],
   "source": [
    "regressor.add(LSTM(units = 50, return_sequences = True, input_shape = (X_train.shape[1],1)))\n",
    "regressor.add(Dropout(0.2))\n",
    "\n",
    "regressor.add(LSTM(units = 50, return_sequences = True))\n",
    "regressor.add(Dropout(0.2))\n",
    "\n",
    "regressor.add(LSTM(units = 50, return_sequences = True))\n",
    "regressor.add(Dropout(0.2))\n",
    "\n",
    "regressor.add(LSTM(units = 50))\n",
    "regressor.add(Dropout(0.2))\n",
    "\n",
    "regressor.add(Dense(units = 1))\n"
   ]
  },
  {
   "cell_type": "code",
   "execution_count": 72,
   "metadata": {
    "colab": {
     "base_uri": "https://localhost:8080/"
    },
    "id": "chj2fhTZmgln",
    "outputId": "84f50f64-a8ea-449c-eb80-c1d26ca6f224"
   },
   "outputs": [
    {
     "name": "stdout",
     "output_type": "stream",
     "text": [
      "Epoch 1/100\n",
      "35/35 [==============================] - 7s 47ms/step - loss: 0.0471\n",
      "Epoch 2/100\n",
      "35/35 [==============================] - 2s 49ms/step - loss: 0.0128\n",
      "Epoch 3/100\n",
      "35/35 [==============================] - 2s 49ms/step - loss: 0.0133\n",
      "Epoch 4/100\n",
      "35/35 [==============================] - 2s 47ms/step - loss: 0.0127\n",
      "Epoch 5/100\n",
      "35/35 [==============================] - 2s 50ms/step - loss: 0.0099\n",
      "Epoch 6/100\n",
      "35/35 [==============================] - 2s 66ms/step - loss: 0.0092\n",
      "Epoch 7/100\n",
      "35/35 [==============================] - 2s 66ms/step - loss: 0.0087\n",
      "Epoch 8/100\n",
      "35/35 [==============================] - 2s 66ms/step - loss: 0.0077\n",
      "Epoch 9/100\n",
      "35/35 [==============================] - 2s 66ms/step - loss: 0.0081\n",
      "Epoch 10/100\n",
      "35/35 [==============================] - 2s 66ms/step - loss: 0.0075\n",
      "Epoch 11/100\n",
      "35/35 [==============================] - 2s 66ms/step - loss: 0.0074\n",
      "Epoch 12/100\n",
      "35/35 [==============================] - 2s 66ms/step - loss: 0.0064\n",
      "Epoch 13/100\n",
      "35/35 [==============================] - 2s 66ms/step - loss: 0.0070\n",
      "Epoch 14/100\n",
      "35/35 [==============================] - 2s 67ms/step - loss: 0.0066\n",
      "Epoch 15/100\n",
      "35/35 [==============================] - 2s 68ms/step - loss: 0.0071\n",
      "Epoch 16/100\n",
      "35/35 [==============================] - 2s 66ms/step - loss: 0.0061\n",
      "Epoch 17/100\n",
      "35/35 [==============================] - 2s 70ms/step - loss: 0.0064\n",
      "Epoch 18/100\n",
      "35/35 [==============================] - 2s 66ms/step - loss: 0.0057\n",
      "Epoch 19/100\n",
      "35/35 [==============================] - 2s 67ms/step - loss: 0.0055\n",
      "Epoch 20/100\n",
      "35/35 [==============================] - 2s 69ms/step - loss: 0.0062\n",
      "Epoch 21/100\n",
      "35/35 [==============================] - 3s 74ms/step - loss: 0.0054\n",
      "Epoch 22/100\n",
      "35/35 [==============================] - 3s 74ms/step - loss: 0.0060\n",
      "Epoch 23/100\n",
      "35/35 [==============================] - 2s 66ms/step - loss: 0.0056\n",
      "Epoch 24/100\n",
      "35/35 [==============================] - 3s 72ms/step - loss: 0.0047\n",
      "Epoch 25/100\n",
      "35/35 [==============================] - 3s 72ms/step - loss: 0.0048\n",
      "Epoch 26/100\n",
      "35/35 [==============================] - 2s 67ms/step - loss: 0.0051\n",
      "Epoch 27/100\n",
      "35/35 [==============================] - 2s 67ms/step - loss: 0.0046\n",
      "Epoch 28/100\n",
      "35/35 [==============================] - 2s 66ms/step - loss: 0.0047\n",
      "Epoch 29/100\n",
      "35/35 [==============================] - 2s 66ms/step - loss: 0.0051\n",
      "Epoch 30/100\n",
      "35/35 [==============================] - 2s 67ms/step - loss: 0.0045\n",
      "Epoch 31/100\n",
      "35/35 [==============================] - 2s 67ms/step - loss: 0.0043\n",
      "Epoch 32/100\n",
      "35/35 [==============================] - 2s 67ms/step - loss: 0.0044\n",
      "Epoch 33/100\n",
      "35/35 [==============================] - 2s 66ms/step - loss: 0.0044\n",
      "Epoch 34/100\n",
      "35/35 [==============================] - 2s 67ms/step - loss: 0.0042\n",
      "Epoch 35/100\n",
      "35/35 [==============================] - 2s 67ms/step - loss: 0.0042\n",
      "Epoch 36/100\n",
      "35/35 [==============================] - 2s 67ms/step - loss: 0.0041\n",
      "Epoch 37/100\n",
      "35/35 [==============================] - 2s 66ms/step - loss: 0.0042\n",
      "Epoch 38/100\n",
      "35/35 [==============================] - 2s 67ms/step - loss: 0.0039\n",
      "Epoch 39/100\n",
      "35/35 [==============================] - 2s 66ms/step - loss: 0.0038\n",
      "Epoch 40/100\n",
      "35/35 [==============================] - 2s 67ms/step - loss: 0.0039\n",
      "Epoch 41/100\n",
      "35/35 [==============================] - 2s 67ms/step - loss: 0.0038\n",
      "Epoch 42/100\n",
      "35/35 [==============================] - 2s 67ms/step - loss: 0.0037\n",
      "Epoch 43/100\n",
      "35/35 [==============================] - 2s 67ms/step - loss: 0.0033\n",
      "Epoch 44/100\n",
      "35/35 [==============================] - 2s 67ms/step - loss: 0.0037\n",
      "Epoch 45/100\n",
      "35/35 [==============================] - 2s 67ms/step - loss: 0.0033\n",
      "Epoch 46/100\n",
      "35/35 [==============================] - 2s 67ms/step - loss: 0.0036\n",
      "Epoch 47/100\n",
      "35/35 [==============================] - 2s 68ms/step - loss: 0.0032\n",
      "Epoch 48/100\n",
      "35/35 [==============================] - 2s 67ms/step - loss: 0.0033\n",
      "Epoch 49/100\n",
      "35/35 [==============================] - 2s 67ms/step - loss: 0.0031\n",
      "Epoch 50/100\n",
      "35/35 [==============================] - 2s 67ms/step - loss: 0.0033\n",
      "Epoch 51/100\n",
      "35/35 [==============================] - 2s 67ms/step - loss: 0.0035\n",
      "Epoch 52/100\n",
      "35/35 [==============================] - 2s 67ms/step - loss: 0.0034\n",
      "Epoch 53/100\n",
      "35/35 [==============================] - 2s 66ms/step - loss: 0.0034\n",
      "Epoch 54/100\n",
      "35/35 [==============================] - 2s 66ms/step - loss: 0.0029\n",
      "Epoch 55/100\n",
      "35/35 [==============================] - 2s 66ms/step - loss: 0.0029\n",
      "Epoch 56/100\n",
      "35/35 [==============================] - 2s 66ms/step - loss: 0.0030\n",
      "Epoch 57/100\n",
      "35/35 [==============================] - 2s 66ms/step - loss: 0.0027\n",
      "Epoch 58/100\n",
      "35/35 [==============================] - 2s 66ms/step - loss: 0.0030\n",
      "Epoch 59/100\n",
      "35/35 [==============================] - 2s 66ms/step - loss: 0.0031\n",
      "Epoch 60/100\n",
      "35/35 [==============================] - 2s 67ms/step - loss: 0.0035\n",
      "Epoch 61/100\n",
      "35/35 [==============================] - 3s 73ms/step - loss: 0.0028\n",
      "Epoch 62/100\n",
      "35/35 [==============================] - 2s 70ms/step - loss: 0.0026\n",
      "Epoch 63/100\n",
      "35/35 [==============================] - 2s 67ms/step - loss: 0.0026\n",
      "Epoch 64/100\n",
      "35/35 [==============================] - 2s 67ms/step - loss: 0.0028\n",
      "Epoch 65/100\n",
      "35/35 [==============================] - 2s 68ms/step - loss: 0.0025\n",
      "Epoch 66/100\n",
      "35/35 [==============================] - 2s 68ms/step - loss: 0.0026\n",
      "Epoch 67/100\n",
      "35/35 [==============================] - 2s 67ms/step - loss: 0.0025\n",
      "Epoch 68/100\n",
      "35/35 [==============================] - 2s 68ms/step - loss: 0.0028\n",
      "Epoch 69/100\n",
      "35/35 [==============================] - 2s 68ms/step - loss: 0.0029\n",
      "Epoch 70/100\n",
      "35/35 [==============================] - 2s 68ms/step - loss: 0.0026\n",
      "Epoch 71/100\n",
      "35/35 [==============================] - 2s 67ms/step - loss: 0.0026\n",
      "Epoch 72/100\n",
      "35/35 [==============================] - 2s 68ms/step - loss: 0.0028\n",
      "Epoch 73/100\n",
      "35/35 [==============================] - 2s 68ms/step - loss: 0.0024\n",
      "Epoch 74/100\n",
      "35/35 [==============================] - 2s 67ms/step - loss: 0.0024\n",
      "Epoch 75/100\n",
      "35/35 [==============================] - 2s 67ms/step - loss: 0.0026\n",
      "Epoch 76/100\n",
      "35/35 [==============================] - 2s 70ms/step - loss: 0.0025\n",
      "Epoch 77/100\n",
      "35/35 [==============================] - 2s 68ms/step - loss: 0.0025\n",
      "Epoch 78/100\n",
      "35/35 [==============================] - 2s 68ms/step - loss: 0.0026\n",
      "Epoch 79/100\n",
      "35/35 [==============================] - 2s 67ms/step - loss: 0.0024\n",
      "Epoch 80/100\n",
      "35/35 [==============================] - 2s 68ms/step - loss: 0.0024\n",
      "Epoch 81/100\n",
      "35/35 [==============================] - 2s 67ms/step - loss: 0.0023\n",
      "Epoch 82/100\n",
      "35/35 [==============================] - 2s 67ms/step - loss: 0.0021\n",
      "Epoch 83/100\n",
      "35/35 [==============================] - 2s 68ms/step - loss: 0.0022\n",
      "Epoch 84/100\n",
      "35/35 [==============================] - 2s 67ms/step - loss: 0.0023\n",
      "Epoch 85/100\n",
      "35/35 [==============================] - 2s 68ms/step - loss: 0.0023\n",
      "Epoch 86/100\n",
      "35/35 [==============================] - 2s 68ms/step - loss: 0.0021\n",
      "Epoch 87/100\n",
      "35/35 [==============================] - 2s 68ms/step - loss: 0.0022\n",
      "Epoch 88/100\n",
      "35/35 [==============================] - 2s 67ms/step - loss: 0.0025\n",
      "Epoch 89/100\n",
      "35/35 [==============================] - 2s 67ms/step - loss: 0.0022\n",
      "Epoch 90/100\n",
      "35/35 [==============================] - 2s 70ms/step - loss: 0.0020\n",
      "Epoch 91/100\n",
      "35/35 [==============================] - 2s 67ms/step - loss: 0.0021\n",
      "Epoch 92/100\n",
      "35/35 [==============================] - 2s 68ms/step - loss: 0.0022\n",
      "Epoch 93/100\n",
      "35/35 [==============================] - 2s 68ms/step - loss: 0.0021\n",
      "Epoch 94/100\n",
      "35/35 [==============================] - 2s 68ms/step - loss: 0.0021\n",
      "Epoch 95/100\n",
      "35/35 [==============================] - 2s 68ms/step - loss: 0.0021\n",
      "Epoch 96/100\n",
      "35/35 [==============================] - 2s 68ms/step - loss: 0.0021\n",
      "Epoch 97/100\n",
      "35/35 [==============================] - 2s 68ms/step - loss: 0.0020\n",
      "Epoch 98/100\n",
      "35/35 [==============================] - 2s 68ms/step - loss: 0.0020\n",
      "Epoch 99/100\n",
      "35/35 [==============================] - 2s 68ms/step - loss: 0.0021\n",
      "Epoch 100/100\n",
      "35/35 [==============================] - 2s 71ms/step - loss: 0.0018\n"
     ]
    },
    {
     "data": {
      "text/plain": [
       "<keras.callbacks.History at 0x2394206aa90>"
      ]
     },
     "execution_count": 72,
     "metadata": {},
     "output_type": "execute_result"
    }
   ],
   "source": [
    "regressor.compile(optimizer = 'adam', loss = 'mean_squared_error')\n",
    "regressor.fit(X_train, y_train, epochs = 100, batch_size = 32)\n"
   ]
  },
  {
   "cell_type": "code",
   "execution_count": 73,
   "metadata": {
    "id": "apR55ceysT0D"
   },
   "outputs": [],
   "source": [
    "test = pd.read_csv('sbitest.csv', index_col = 'Date', parse_dates = True)"
   ]
  },
  {
   "cell_type": "code",
   "execution_count": 74,
   "metadata": {
    "colab": {
     "base_uri": "https://localhost:8080/"
    },
    "id": "OZMNAWnAvOYL",
    "outputId": "147123f9-2b71-4f5f-9059-ebf5abcd2b04"
   },
   "outputs": [],
   "source": [
    "real = test.iloc[:,1:2].values\n"
   ]
  },
  {
   "cell_type": "code",
   "execution_count": 75,
   "metadata": {
    "colab": {
     "base_uri": "https://localhost:8080/",
     "height": 295
    },
    "id": "gEh6QiZ2vlNp",
    "outputId": "832cd078-4e28-4beb-e852-4653802ce33a"
   },
   "outputs": [
    {
     "data": {
      "text/html": [
       "<div>\n",
       "<style scoped>\n",
       "    .dataframe tbody tr th:only-of-type {\n",
       "        vertical-align: middle;\n",
       "    }\n",
       "\n",
       "    .dataframe tbody tr th {\n",
       "        vertical-align: top;\n",
       "    }\n",
       "\n",
       "    .dataframe thead th {\n",
       "        text-align: right;\n",
       "    }\n",
       "</style>\n",
       "<table border=\"1\" class=\"dataframe\">\n",
       "  <thead>\n",
       "    <tr style=\"text-align: right;\">\n",
       "      <th></th>\n",
       "      <th>Open</th>\n",
       "      <th>High</th>\n",
       "      <th>Low</th>\n",
       "      <th>Close</th>\n",
       "      <th>Adj Close</th>\n",
       "      <th>Volume</th>\n",
       "    </tr>\n",
       "    <tr>\n",
       "      <th>Date</th>\n",
       "      <th></th>\n",
       "      <th></th>\n",
       "      <th></th>\n",
       "      <th></th>\n",
       "      <th></th>\n",
       "      <th></th>\n",
       "    </tr>\n",
       "  </thead>\n",
       "  <tbody>\n",
       "    <tr>\n",
       "      <th>2020-01-01</th>\n",
       "      <td>334.700012</td>\n",
       "      <td>335.950012</td>\n",
       "      <td>332.149994</td>\n",
       "      <td>334.450012</td>\n",
       "      <td>326.298187</td>\n",
       "      <td>17379320</td>\n",
       "    </tr>\n",
       "    <tr>\n",
       "      <th>2020-01-02</th>\n",
       "      <td>334.500000</td>\n",
       "      <td>339.850006</td>\n",
       "      <td>333.350006</td>\n",
       "      <td>339.299988</td>\n",
       "      <td>331.029938</td>\n",
       "      <td>20324236</td>\n",
       "    </tr>\n",
       "    <tr>\n",
       "      <th>2020-01-03</th>\n",
       "      <td>337.950012</td>\n",
       "      <td>337.950012</td>\n",
       "      <td>332.000000</td>\n",
       "      <td>333.700012</td>\n",
       "      <td>325.566467</td>\n",
       "      <td>21853208</td>\n",
       "    </tr>\n",
       "    <tr>\n",
       "      <th>2020-01-06</th>\n",
       "      <td>331.700012</td>\n",
       "      <td>331.700012</td>\n",
       "      <td>317.700012</td>\n",
       "      <td>319.000000</td>\n",
       "      <td>311.224731</td>\n",
       "      <td>35645325</td>\n",
       "    </tr>\n",
       "    <tr>\n",
       "      <th>2020-01-07</th>\n",
       "      <td>324.450012</td>\n",
       "      <td>327.000000</td>\n",
       "      <td>315.399994</td>\n",
       "      <td>318.399994</td>\n",
       "      <td>310.639374</td>\n",
       "      <td>50966826</td>\n",
       "    </tr>\n",
       "  </tbody>\n",
       "</table>\n",
       "</div>"
      ],
      "text/plain": [
       "                  Open        High         Low       Close   Adj Close  \\\n",
       "Date                                                                     \n",
       "2020-01-01  334.700012  335.950012  332.149994  334.450012  326.298187   \n",
       "2020-01-02  334.500000  339.850006  333.350006  339.299988  331.029938   \n",
       "2020-01-03  337.950012  337.950012  332.000000  333.700012  325.566467   \n",
       "2020-01-06  331.700012  331.700012  317.700012  319.000000  311.224731   \n",
       "2020-01-07  324.450012  327.000000  315.399994  318.399994  310.639374   \n",
       "\n",
       "              Volume  \n",
       "Date                  \n",
       "2020-01-01  17379320  \n",
       "2020-01-02  20324236  \n",
       "2020-01-03  21853208  \n",
       "2020-01-06  35645325  \n",
       "2020-01-07  50966826  "
      ]
     },
     "execution_count": 75,
     "metadata": {},
     "output_type": "execute_result"
    }
   ],
   "source": [
    "test.head()"
   ]
  },
  {
   "cell_type": "code",
   "execution_count": 76,
   "metadata": {},
   "outputs": [
    {
     "name": "stdout",
     "output_type": "stream",
     "text": [
      "<class 'pandas.core.frame.DataFrame'>\n",
      "DatetimeIndex: 765 entries, 2020-01-01 to 2023-01-25\n",
      "Data columns (total 6 columns):\n",
      " #   Column     Non-Null Count  Dtype  \n",
      "---  ------     --------------  -----  \n",
      " 0   Open       765 non-null    float64\n",
      " 1   High       765 non-null    float64\n",
      " 2   Low        765 non-null    float64\n",
      " 3   Close      765 non-null    float64\n",
      " 4   Adj Close  765 non-null    float64\n",
      " 5   Volume     765 non-null    int64  \n",
      "dtypes: float64(5), int64(1)\n",
      "memory usage: 41.8 KB\n"
     ]
    }
   ],
   "source": [
    "test.info()"
   ]
  },
  {
   "cell_type": "code",
   "execution_count": 77,
   "metadata": {},
   "outputs": [
    {
     "data": {
      "text/plain": [
       "Open         False\n",
       "High         False\n",
       "Low          False\n",
       "Close        False\n",
       "Adj Close    False\n",
       "Volume       False\n",
       "dtype: bool"
      ]
     },
     "execution_count": 77,
     "metadata": {},
     "output_type": "execute_result"
    }
   ],
   "source": [
    "test.isna().any()"
   ]
  },
  {
   "cell_type": "code",
   "execution_count": 78,
   "metadata": {},
   "outputs": [],
   "source": [
    "test_set = test['Open']\n",
    "test_set = pd.DataFrame(test_set)"
   ]
  },
  {
   "cell_type": "code",
   "execution_count": 79,
   "metadata": {},
   "outputs": [
    {
     "name": "stdout",
     "output_type": "stream",
     "text": [
      "<class 'pandas.core.frame.DataFrame'>\n",
      "DatetimeIndex: 765 entries, 2020-01-01 to 2023-01-25\n",
      "Data columns (total 1 columns):\n",
      " #   Column  Non-Null Count  Dtype  \n",
      "---  ------  --------------  -----  \n",
      " 0   Open    765 non-null    float64\n",
      "dtypes: float64(1)\n",
      "memory usage: 12.0 KB\n"
     ]
    }
   ],
   "source": [
    "test_set.info()"
   ]
  },
  {
   "cell_type": "code",
   "execution_count": 80,
   "metadata": {},
   "outputs": [
    {
     "name": "stderr",
     "output_type": "stream",
     "text": [
      "C:\\Users\\hp\\anaconda3\\lib\\site-packages\\sklearn\\base.py:450: UserWarning: X does not have valid feature names, but MinMaxScaler was fitted with feature names\n",
      "  warnings.warn(\n"
     ]
    },
    {
     "name": "stdout",
     "output_type": "stream",
     "text": [
      "23/23 [==============================] - 2s 16ms/step\n"
     ]
    }
   ],
   "source": [
    "dataset_total = pd.concat((dataset['Open'], test['Open']), axis=0)\n",
    "\n",
    "inputs = dataset_total[len(dataset_total)-len(test)-60:].values\n",
    "inputs = inputs.reshape(-1,1)\n",
    "inputs = sc.transform(inputs)\n",
    "X_test = []\n",
    "for i in range(60, 765):\n",
    "    X_test.append(inputs[i-60:i,0])\n",
    "X_test = np.array(X_test)\n",
    "X_test = np.reshape(X_test, (X_test.shape[0], X_test.shape[1],1))\n",
    "predicted_stock_price = regressor.predict(X_test)\n",
    "predicted_stock_price = sc.inverse_transform(predicted_stock_price)"
   ]
  },
  {
   "cell_type": "code",
   "execution_count": 81,
   "metadata": {},
   "outputs": [
    {
     "name": "stdout",
     "output_type": "stream",
     "text": [
      "<class 'pandas.core.frame.DataFrame'>\n",
      "RangeIndex: 705 entries, 0 to 704\n",
      "Data columns (total 1 columns):\n",
      " #   Column  Non-Null Count  Dtype  \n",
      "---  ------  --------------  -----  \n",
      " 0   0       705 non-null    float32\n",
      "dtypes: float32(1)\n",
      "memory usage: 2.9 KB\n"
     ]
    }
   ],
   "source": [
    "predicted_stock_price = pd.DataFrame(predicted_stock_price)\n",
    "predicted_stock_price.info()"
   ]
  },
  {
   "cell_type": "code",
   "execution_count": 86,
   "metadata": {},
   "outputs": [
    {
     "data": {
      "image/png": "[encoded data removed]",
      "text/plain": [
       "<Figure size 432x288 with 1 Axes>"
      ]
     },
     "metadata": {
      "needs_background": "light"
     },
     "output_type": "display_data"
    }
   ],
   "source": [
    "real = real[60:, :]\n",
    "plt.plot(real, color='red', label = 'Real Stock Price')\n",
    "plt.plot(predicted_stock_price, color='blue', label = 'Predicted Stock Price')\n",
    "plt.title('Stock Prediction')\n",
    "plt.xlabel('Time')\n",
    "plt.ylabel('Price')\n",
    "plt.legend()\n",
    "plt.show()"
   ]
  },
  {
   "cell_type": "code",
   "execution_count": null,
   "metadata": {},
   "outputs": [],
   "source": []
  }
 ],
 "metadata": {
  "colab": {
   "name": "Stock_Prediction.ipynb",
   "provenance": []
  },
  "kernelspec": {
   "display_name": "Python 3 (ipykernel)",
   "language": "python",
   "name": "python3"
  },
  "language_info": {
   "codemirror_mode": {
    "name": "ipython",
    "version": 3
   },
   "file_extension": ".py",
   "mimetype": "text/x-python",
   "name": "python",
   "nbconvert_exporter": "python",
   "pygments_lexer": "ipython3",
   "version": "3.9.12"
  }
 },
 "nbformat": 4,
 "nbformat_minor": 1
}
